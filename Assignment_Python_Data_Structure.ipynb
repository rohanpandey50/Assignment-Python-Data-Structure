{
  "cells": [
    {
      "cell_type": "code",
      "execution_count": null,
      "metadata": {
        "colab": {
          "base_uri": "https://localhost:8080/"
        },
        "id": "PTkfWelnYPUc",
        "outputId": "23805eaa-7b47-46fb-a7a8-ed65286d241c"
      },
      "outputs": [
        {
          "name": "stdout",
          "output_type": "stream",
          "text": [
            "Enter your string:-Hello World\n",
            " Your reversed string is :-dlroW olleH\n"
          ]
        }
      ],
      "source": [
        "# Write a code to reverse a string.\n",
        "word = input(\"Enter your string:-\")\n",
        "rev_word = word[::-1]\n",
        "print(f\"Your reversed string is :-{rev_word}\")"
      ]
    },
    {
      "cell_type": "code",
      "execution_count": null,
      "metadata": {
        "colab": {
          "base_uri": "https://localhost:8080/"
        },
        "id": "mxs7ebUxYodV",
        "outputId": "6c7a7504-2a5a-4dca-ef4b-08a23f05fb6f"
      },
      "outputs": [
        {
          "name": "stdout",
          "output_type": "stream",
          "text": [
            "Enter your string:-Orange\n",
            " Number of vowels are:-3\n"
          ]
        }
      ],
      "source": [
        "# Write a code to count the number of vowels in a string.\n",
        "word=input(\"Enter your string:-\")\n",
        "vowel=\"aeiou\"\n",
        "count=0\n",
        "for char in word.lower():\n",
        "  if char in vowel:\n",
        "    count+=1\n",
        "print(f\"Number of vowels are:-{count}\")\n"
      ]
    },
    {
      "cell_type": "code",
      "execution_count": null,
      "metadata": {
        "colab": {
          "base_uri": "https://localhost:8080/"
        },
        "id": "lDEio-7UYpro",
        "outputId": "6b341a66-c5a6-4b1c-a066-cd45d24fe325"
      },
      "outputs": [
        {
          "name": "stdout",
          "output_type": "stream",
          "text": [
            "Enter your string:-madam\n",
            "madam is palindrome\n"
          ]
        }
      ],
      "source": [
        "# Write a code to check if a given string is a palindrome or not .\n",
        "word=input(\"Enter your string:-\")\n",
        "if word==word[::-1]:\n",
        "  print(f\"{word} is palindrome\")\n",
        "else:\n",
        "  print(f\"{word} is not palindrome\")\n"
      ]
    },
    {
      "cell_type": "code",
      "execution_count": null,
      "metadata": {
        "colab": {
          "base_uri": "https://localhost:8080/"
        },
        "id": "lmLMBIvWYq8e",
        "outputId": "797a5dc8-90fb-42b2-89ed-9ae6dcc7643e"
      },
      "outputs": [
        {
          "name": "stdout",
          "output_type": "stream",
          "text": [
            "enter your 1st string:-Earth\n",
            "enter your 2nd string:-heart\n",
            "Earth and heart are anagrams\n"
          ]
        }
      ],
      "source": [
        "# Write a code to check if two given strings are anagrams of each other .\n",
        "word_1=input(\"enter your 1st string:-\")\n",
        "word_2=input(\"enter your 2nd string:-\")\n",
        "if sorted(word_1.lower())==sorted(word_2.lower()):\n",
        "  print(f\"{word_1} and {word_2} are anagrams\")\n",
        "else:\n",
        "   print(f\"{word_1} and {word_2} are not anagrams\")\n"
      ]
    },
    {
      "cell_type": "code",
      "execution_count": null,
      "metadata": {
        "colab": {
          "base_uri": "https://localhost:8080/"
        },
        "id": "GlI2007xYr3V",
        "outputId": "26419d29-88f2-4e9c-8c13-834b33801dd8"
      },
      "outputs": [
        {
          "name": "stdout",
          "output_type": "stream",
          "text": [
            "Enter your string:-rohan is a good boy. rohan loves coding\n",
            "Enter your substring:-rohan\n",
            "substring rohan occurs at indicies[0, 21]\n"
          ]
        }
      ],
      "source": [
        "# Write a code to find all ocurrence of a given substring within another string .\n",
        "string=input(\"Enter your string:-\")\n",
        "sub_str=input(\"Enter your substring:-\")\n",
        "position=[]\n",
        "i=0\n",
        "while i<len(string):\n",
        "  index=string.find(sub_str,i)\n",
        "  if index==-1:\n",
        "    break\n",
        "  else:\n",
        "    position.append(index)\n",
        "    i=index+len(sub_str)\n",
        "\n",
        "if len(position)==0:\n",
        "  print(f\"substring {sub_str} not found\")\n",
        "else:\n",
        "  print(f\"substring {sub_str} occurs at indicies{position}\")\n",
        "\n",
        "\n"
      ]
    },
    {
      "cell_type": "code",
      "execution_count": null,
      "metadata": {
        "colab": {
          "base_uri": "https://localhost:8080/"
        },
        "id": "5BGFhSksYsDq",
        "outputId": "0efbf214-58ba-4b19-e38f-ed399b278bf3"
      },
      "outputs": [
        {
          "name": "stdout",
          "output_type": "stream",
          "text": [
            "Enter the string:-aabbbbbbbbcceghjjjjjk\n",
            "compressed word is:a2b8c2e1g1h1j5k1\n"
          ]
        }
      ],
      "source": [
        "# Write a code to perform basic string compression using the counts of repeated characters .\n",
        "word=input(\"Enter the string:-\")\n",
        "current_char=word[0]\n",
        "count=1\n",
        "compressed_str=\"\"\n",
        "for char in word[1:]:\n",
        "  if char==current_char:\n",
        "    count+=1\n",
        "  else:\n",
        "    compressed_str+=current_char+str(count)\n",
        "    current_char=char\n",
        "    count=1\n",
        "\n",
        "compressed_str+=current_char+str(count)\n",
        "if len(compressed_str)<len(word):\n",
        "  print(f\"compressed word is:{compressed_str}\")\n",
        "else:\n",
        "  print(\"No compression needed\")"
      ]
    },
    {
      "cell_type": "code",
      "execution_count": null,
      "metadata": {
        "colab": {
          "base_uri": "https://localhost:8080/"
        },
        "id": "lw7lD7yMYsQA",
        "outputId": "f0a4e369-8222-4c14-fcd0-81710695ba60"
      },
      "outputs": [
        {
          "name": "stdout",
          "output_type": "stream",
          "text": [
            "enter your string:-apple\n",
            "apple does not have all unique characters\n"
          ]
        }
      ],
      "source": [
        "# Write a code to determine if a string has all unique characters .\n",
        "word=input(\"enter your string:-\")\n",
        "s=set(word)\n",
        "if len(word)==len(s):\n",
        "  print(f\"{word} has all unique characters\")\n",
        "else:\n",
        "    print(f\"{word} does not have all unique characters\")\n",
        "\n"
      ]
    },
    {
      "cell_type": "code",
      "execution_count": null,
      "metadata": {
        "colab": {
          "base_uri": "https://localhost:8080/"
        },
        "id": "v2UGxIL-YsnE",
        "outputId": "483ec754-8019-48b6-f530-968dfe835e1a"
      },
      "outputs": [
        {
          "name": "stdout",
          "output_type": "stream",
          "text": [
            "Enter the string:-India\n",
            "Enter your choice(uppercase/lowercase):-uppercase\n",
            "INDIA\n"
          ]
        }
      ],
      "source": [
        "#  Write a code to convert a given string to uppercase or lowercase .\n",
        "word=input(\"Enter the string:-\")\n",
        "choice=input(\"Enter your choice(uppercase/lowercase):-\")\n",
        "if choice==\"uppercase\":\n",
        "  print(word.upper())\n",
        "elif choice==\"lowercase\":\n",
        "  print(word.lower())\n",
        "else:\n",
        "  print(\"wrong choice\")"
      ]
    },
    {
      "cell_type": "code",
      "execution_count": null,
      "metadata": {
        "colab": {
          "base_uri": "https://localhost:8080/"
        },
        "id": "XHePDNn3Ys2K",
        "outputId": "af8724a4-f674-4ed2-c401-fd0bba2a6022"
      },
      "outputs": [
        {
          "name": "stdout",
          "output_type": "stream",
          "text": [
            "enter your string:-my name is rohan pandey\n",
            "Number of words in given string are:5\n"
          ]
        }
      ],
      "source": [
        "# Write a code to count the number of words in a string .\n",
        "word=input(\"enter your string:-\")\n",
        "count=len(word.split(\" \"))\n",
        "print(f\"Number of words in given string are:{count}\")"
      ]
    },
    {
      "cell_type": "code",
      "execution_count": null,
      "metadata": {
        "colab": {
          "base_uri": "https://localhost:8080/"
        },
        "id": "VSB-h4zWYxcz",
        "outputId": "4d520b92-09b0-4dcb-94dc-b85aa4defee1"
      },
      "outputs": [
        {
          "name": "stdout",
          "output_type": "stream",
          "text": [
            "enter first string:-physics\n",
            "enter second string:-wallah\n",
            "physicswallah\n"
          ]
        }
      ],
      "source": [
        "# Write a code to concatenate two strings without using the + operator .\n",
        "word1=input(\"enter first string:-\")\n",
        "word2=input(\"enter second string:-\")\n",
        "print(\"\".join([word1,word2]))"
      ]
    },
    {
      "cell_type": "code",
      "execution_count": null,
      "metadata": {
        "colab": {
          "base_uri": "https://localhost:8080/"
        },
        "id": "eVlZZq9ilVIv",
        "outputId": "ce35bd23-8e19-491d-f11c-7ffb58e5e6ac"
      },
      "outputs": [
        {
          "name": "stdout",
          "output_type": "stream",
          "text": [
            "[1, 3, 4, 5, 7, 8]\n"
          ]
        }
      ],
      "source": [
        "#  Write a code to remove all occurrences of a specific element from a list .\n",
        "li=[1,2,3,4,5,2,7,2,2,8]\n",
        "remove_item=2\n",
        "new_li=[item for item in li if item!=remove_item]\n",
        "print(new_li)\n"
      ]
    },
    {
      "cell_type": "code",
      "execution_count": null,
      "metadata": {
        "colab": {
          "base_uri": "https://localhost:8080/"
        },
        "id": "Y4C6_XtZlVlx",
        "outputId": "e5f096df-a3a5-4966-d286-6895cde3da10"
      },
      "outputs": [
        {
          "name": "stdout",
          "output_type": "stream",
          "text": [
            " second largest number is :50\n"
          ]
        }
      ],
      "source": [
        "#  Implement a code to find the second largest number in a given list of integers .\n",
        "li=[10,22,3,1,7,100,32,50]\n",
        "li.sort()\n",
        "print(f\" second largest number is :{li[-2]}\")"
      ]
    },
    {
      "cell_type": "code",
      "execution_count": null,
      "metadata": {
        "colab": {
          "base_uri": "https://localhost:8080/"
        },
        "id": "dNkd1_hklV18",
        "outputId": "70928571-ea59-4734-f64c-5cceb91744c8"
      },
      "outputs": [
        {
          "name": "stdout",
          "output_type": "stream",
          "text": [
            "{1: 3, 2: 2, 4: 2, 5: 4, 8: 3}\n"
          ]
        }
      ],
      "source": [
        "# Create a code to count the occurrences of each element in a list and return a dictionary with elements as keys and their counts as values .\n",
        "li=[1,2,4,4,2,5,8,1,1,8,5,5,5,8]\n",
        "new_dict={item:li.count(item) for item in set(li)}\n",
        "print(new_dict)"
      ]
    },
    {
      "cell_type": "code",
      "execution_count": null,
      "metadata": {
        "colab": {
          "base_uri": "https://localhost:8080/"
        },
        "id": "aY2nLvPAlWEy",
        "outputId": "12f10916-854c-4641-d48e-12067675dea2"
      },
      "outputs": [
        {
          "name": "stdout",
          "output_type": "stream",
          "text": [
            "reversed list is : [9, 8, 7, 6, 5, 4, 3, 2, 1]\n"
          ]
        }
      ],
      "source": [
        "# Write a code to reverse a list in place without using any built-in reverse function .\n",
        "li=[1,2,3,4,5,6,7,8,9]\n",
        "start=0\n",
        "end=len(li)-1\n",
        "while start<end:\n",
        "  li[start],li[end]=li[end],li[start]\n",
        "  start+=1\n",
        "  end-=1\n",
        "print(f\"reversed list is : {li}\")\n"
      ]
    },
    {
      "cell_type": "code",
      "execution_count": null,
      "metadata": {
        "colab": {
          "base_uri": "https://localhost:8080/"
        },
        "id": "NSafAaIelWUI",
        "outputId": "9d4fde8e-b567-4bf3-e364-3b62a03461b3"
      },
      "outputs": [
        {
          "name": "stdout",
          "output_type": "stream",
          "text": [
            "[1, 2, 5, 6, 9, 3, 8]\n"
          ]
        }
      ],
      "source": [
        "# Implement a code to find and remove duplicates from a list while preserving the original order of elements .\n",
        "\n",
        "new_li=[]\n",
        "for num in li:\n",
        "  if num not in new_li:\n",
        "    new_li.append(num)\n",
        "print(new_li)"
      ]
    },
    {
      "cell_type": "code",
      "execution_count": null,
      "metadata": {
        "colab": {
          "base_uri": "https://localhost:8080/"
        },
        "id": "Lp5He87GlWha",
        "outputId": "ecad9209-780f-47be-abff-102a0ad7170a"
      },
      "outputs": [
        {
          "name": "stdout",
          "output_type": "stream",
          "text": [
            "Sorted in descending order\n"
          ]
        }
      ],
      "source": [
        "#  Create a code to check if a given list is sorted (either in ascending or descending order) or not .\n",
        "li=[6,5,4,3,2,1]\n",
        "if li==sorted(li):\n",
        "    print(\"Sorted in ascending order\")\n",
        "elif li==sorted(li,reverse=True):\n",
        "  print(\"Sorted in descending order\")\n",
        "else:\n",
        "  print(\"List is not sorted\")"
      ]
    },
    {
      "cell_type": "code",
      "execution_count": null,
      "metadata": {
        "colab": {
          "base_uri": "https://localhost:8080/"
        },
        "id": "hZuoslUAlWuQ",
        "outputId": "73098ae1-2683-4fa8-e257-038d1a38dcb4"
      },
      "outputs": [
        {
          "name": "stdout",
          "output_type": "stream",
          "text": [
            "[1, 2, 3, 3, 4, 5, 5, 6, 7]\n"
          ]
        }
      ],
      "source": [
        "# Write a code to merge two sorted list into a single sorted list .\n",
        "li1=[1,3,5,7]\n",
        "li2=[2,3,4,5,6]\n",
        "li3=li1+li2\n",
        "li3.sort()\n",
        "print(li3)\n"
      ]
    },
    {
      "cell_type": "code",
      "execution_count": null,
      "metadata": {
        "colab": {
          "base_uri": "https://localhost:8080/"
        },
        "id": "HSSzqz-DlW5Y",
        "outputId": "f00970e9-25a7-4790-f913-aab22bcfd7aa"
      },
      "outputs": [
        {
          "name": "stdout",
          "output_type": "stream",
          "text": [
            " Intersection of two given list:- [3, 5]\n"
          ]
        }
      ],
      "source": [
        "# Implement a code to find the intersection of two given list\n",
        "li1=[1,3,5,7,3,5]\n",
        "li2=[2,3,4,5,6,6]\n",
        "new_li1=list(set(li1))\n",
        "new_li2=list(set(li2))\n",
        "li3=[item for item in new_li1 if item in new_li2]\n",
        "print(f\" Intersection of two given list:- {li3}\")"
      ]
    },
    {
      "cell_type": "code",
      "execution_count": null,
      "metadata": {
        "colab": {
          "base_uri": "https://localhost:8080/"
        },
        "id": "AfFJzfMjlXFG",
        "outputId": "f0319292-e102-4744-c984-ffd1ffe0f58a"
      },
      "outputs": [
        {
          "name": "stdout",
          "output_type": "stream",
          "text": [
            " Union of two given list:- [2, 3, 4, 5, 6, 1, 7]\n"
          ]
        }
      ],
      "source": [
        "# Create a code to find the union of two list without duplicates .\n",
        "li1=[1,3,5,7,3,5]\n",
        "li2=[2,3,4,5,6,6]\n",
        "new_li1=list(set(li1))\n",
        "new_li2=list(set(li2))\n",
        "li3=new_li2+[i for i in li1 if i not in li2]\n",
        "print(f\" Union of two given list:- {li3}\")\n"
      ]
    },
    {
      "cell_type": "code",
      "execution_count": null,
      "metadata": {
        "colab": {
          "base_uri": "https://localhost:8080/"
        },
        "id": "npekcO5olXSq",
        "outputId": "80089788-fc16-44fe-d26e-a2086ad791a3"
      },
      "outputs": [
        {
          "name": "stdout",
          "output_type": "stream",
          "text": [
            "[4, 5, 6, 7, 1, 2, 3, 9, 10, 8]\n"
          ]
        }
      ],
      "source": [
        "#  Write a code to shuffle a given list randomly without using any built-in shuffle function .\n",
        "li=[1,2,3,4,5,6,7,8,9,10]\n",
        "n=len(li)\n",
        "for i in range(n):\n",
        "  j=(i+7)%n\n",
        "  li[i],li[j]=li[j],li[i]\n",
        "print(li)\n",
        "\n"
      ]
    },
    {
      "cell_type": "code",
      "execution_count": null,
      "metadata": {
        "colab": {
          "base_uri": "https://localhost:8080/"
        },
        "id": "nCChiCdHSo4F",
        "outputId": "155f544a-443c-4afc-85b1-99f2a79cfb66"
      },
      "outputs": [
        {
          "name": "stdout",
          "output_type": "stream",
          "text": [
            "lements common to both tuples:- (2, 'rohan', 4, 5)\n"
          ]
        }
      ],
      "source": [
        "# Write a code that takes two tuples as input and returns a new tuple containing elements that are common to both input tuples .\n",
        "tup1=(1,2,3,4,5,\"rohan\",1,4)\n",
        "tup2=(4,\"rohan\",5,\"Rohan\",2,2)\n",
        "tup3=tuple(set(tup1) & set(tup2))\n",
        "print(f\"lements common to both tuples:- {tup3}\")\n"
      ]
    },
    {
      "cell_type": "code",
      "execution_count": null,
      "metadata": {
        "colab": {
          "base_uri": "https://localhost:8080/"
        },
        "id": "KSLefXctStQE",
        "outputId": "1d2318ce-f906-495a-ba44-5856cde88865"
      },
      "outputs": [
        {
          "name": "stdout",
          "output_type": "stream",
          "text": [
            "Enter 1st set of integers seperated by commas:-1,2,3,4,5,5,6,5\n",
            "Enter 2nd set of integers seperated by commas:-2,2,2,3,1,8,9\n",
            "intersection is:-{1, 2, 3}\n"
          ]
        }
      ],
      "source": [
        "# Create a code that prompts the user to enter two sets of integers separated by commas. Then , print the intersection of these two sets .\n",
        "inp1=input(\"Enter 1st set of integers seperated by commas:-\")\n",
        "inp2=input(\"Enter 2nd set of integers seperated by commas:-\")\n",
        "set1=set(map(int,inp1.split(\",\")))\n",
        "set2=set((map(int,inp2.split(\",\"))))\n",
        "set3=set1&set2\n",
        "print(f\"intersection is:-{set3}\")\n"
      ]
    },
    {
      "cell_type": "code",
      "execution_count": null,
      "metadata": {
        "colab": {
          "base_uri": "https://localhost:8080/"
        },
        "id": "pUBQeaPzSuZR",
        "outputId": "209e9d68-1d13-42c8-c041-d46dde7a6a97"
      },
      "outputs": [
        {
          "name": "stdout",
          "output_type": "stream",
          "text": [
            "(1, 2, 3, 4, 5, 3, 4, 5, 6, 7)\n"
          ]
        }
      ],
      "source": [
        "#  Write a code to concatenate two tuples. The function should take two tuples as input and return a new tuple containing elements from both input tuples.\n",
        "def tup(tuple1,tuple2):\n",
        "  return tuple1+tuple2\n",
        "tup1=(1,2,3,4,5)\n",
        "tup2=(3,4,5,6,7)\n",
        "\n",
        "tup3=tup(tup1,tup2)\n",
        "print(tup3)"
      ]
    },
    {
      "cell_type": "code",
      "execution_count": null,
      "metadata": {
        "colab": {
          "base_uri": "https://localhost:8080/"
        },
        "id": "0NVSSWovSvbD",
        "outputId": "321c891a-1957-4c72-86c1-baef479e3bec"
      },
      "outputs": [
        {
          "name": "stdout",
          "output_type": "stream",
          "text": [
            "enter 1st set of strings:-cow,cat,dog\n",
            "enter 2nd set of strings:-dog,cat,rabbit\n",
            "elements present in 1st set but not in 2nd set:-{'cow'}\n"
          ]
        }
      ],
      "source": [
        "# Develop a code that prompts the user to input two sets of strings. Then, print the elements that are present in first set but not in the second set .\n",
        "inp1=input(\"enter 1st set of strings:-\")\n",
        "inp2=input(\"enter 2nd set of strings:-\")\n",
        "set1=set(inp1.split(\",\"))\n",
        "set2=set(inp2.split(\",\"))\n",
        "set3=set1-set2\n",
        "print(f\"elements present in 1st set but not in 2nd set:-{set3}\")"
      ]
    },
    {
      "cell_type": "code",
      "execution_count": null,
      "metadata": {
        "colab": {
          "base_uri": "https://localhost:8080/"
        },
        "id": "03UJ3EstY8cv",
        "outputId": "2bc4af06-ec59-4c11-d2cc-55c2f26e8f3e"
      },
      "outputs": [
        {
          "name": "stdout",
          "output_type": "stream",
          "text": [
            "Enter your set of elements for tuple:-a,b,c,d,e,f,g,h\n",
            "enter 1st integer:-2\n",
            "enter 2nd integer:-5\n",
            "final tuple is:-('c', 'd', 'e')\n"
          ]
        }
      ],
      "source": [
        "# Create a code that takes a tuple and two integrs as input. The function should return a new tuple containing elements from the original tuple within the specified range of indices .\n",
        "def tuples(tup,num1,num2):\n",
        "  final_tup=tup[num1:num2]\n",
        "  print(f\"final tuple is:-{final_tup}\")\n",
        "tup_inp=tuple(input(\"Enter your set of elements for tuple:-\").split(\",\"))\n",
        "inp1=int(input(\"enter 1st integer:-\"))\n",
        "inp2=int(input(\"enter 2nd integer:-\"))\n",
        "tuples(tup_inp,inp1,inp2)\n"
      ]
    },
    {
      "cell_type": "code",
      "execution_count": null,
      "metadata": {
        "colab": {
          "base_uri": "https://localhost:8080/"
        },
        "id": "fm7TAWZtaFRl",
        "outputId": "1aaea90a-8a9a-4c02-e937-bfab9dec528d"
      },
      "outputs": [
        {
          "name": "stdout",
          "output_type": "stream",
          "text": [
            "enter 1st set of characters:-a,b,c,1,2,3\n",
            "enter 2nd set of characters:-g,h,a,b,2,3,6,7\n",
            "union of two sets are:-{'7', 'c', 'a', 'h', 'b', 'g', '2', '1', '3', '6'}\n"
          ]
        }
      ],
      "source": [
        "#  Write a code that prompts the user to input two sets of characters. Then print the union of these two sets .\n",
        "set1=set(input(\"enter 1st set of characters:-\").split(\",\"))\n",
        "set2=set(input(\"enter 2nd set of characters:-\").split(\",\"))\n",
        "set3=set1|set2\n",
        "print(f\"union of two sets are:-{set3}\")\n"
      ]
    },
    {
      "cell_type": "code",
      "execution_count": null,
      "metadata": {
        "colab": {
          "base_uri": "https://localhost:8080/"
        },
        "id": "ZA-4qKa2alf3",
        "outputId": "c01ebff3-e0dd-4961-f665-519f2f9a5b82"
      },
      "outputs": [
        {
          "name": "stdout",
          "output_type": "stream",
          "text": [
            " maximum value is:5\n",
            " minimum value is:1\n"
          ]
        }
      ],
      "source": [
        "# Develop a code that takes a tuple of integrs as input. The function should return the maximum and minimum values from the tuple using tuple unpacking .\n",
        "tup1=(1,2,3,4,5,5)\n",
        "print(f\" maximum value is:{max(tup1)}\")\n",
        "print(f\" minimum value is:{min(tup1)}\")"
      ]
    },
    {
      "cell_type": "code",
      "execution_count": null,
      "metadata": {
        "colab": {
          "base_uri": "https://localhost:8080/"
        },
        "id": "61M0LL86bK2U",
        "outputId": "5d00ee64-90db-40e3-bf4a-8ec999ad96ad"
      },
      "outputs": [
        {
          "name": "stdout",
          "output_type": "stream",
          "text": [
            "union of sets are:{1, 2, 3, 4, 5, 6, 7, 8}\n",
            "intersection of sets are:{3, 4, 5}\n",
            "difference of sets are:{1, 2}\n"
          ]
        }
      ],
      "source": [
        "# Creat a code that defines two sets of integers. Then print the union , intersection and differnnce of these two sets .\n",
        "set1={1,2,3,4,5,3,3,5}\n",
        "set2={3,4,5,5,6,7,8}\n",
        "print(f\"union of sets are:{set1|set2}\")\n",
        "print(f\"intersection of sets are:{set1&set2}\")\n",
        "print(f\"difference of sets are:{set1-set2}\")"
      ]
    },
    {
      "cell_type": "code",
      "execution_count": null,
      "metadata": {
        "colab": {
          "base_uri": "https://localhost:8080/"
        },
        "id": "0t-gaA6WboNo",
        "outputId": "3715df85-96ae-4cb3-be5d-bcc4231a3a7f"
      },
      "outputs": [
        {
          "name": "stdout",
          "output_type": "stream",
          "text": [
            "count of occurrences of the given element in the tuple:3\n"
          ]
        }
      ],
      "source": [
        "# Write a code that takes a tuple and an element as input. The function should return the count of occurrences of the given element in the tuple .\n",
        "tup1=(1,2,3,45,2,2,5,6)\n",
        "element=2\n",
        "def tup(tup1,element):\n",
        "  occur=tup1.count(element)\n",
        "  print(f\"count of occurrences of the given element in the tuple:{occur}\")\n",
        "\n",
        "tup(tup1,element)"
      ]
    },
    {
      "cell_type": "code",
      "execution_count": null,
      "metadata": {
        "colab": {
          "base_uri": "https://localhost:8080/"
        },
        "id": "gjHgXJNicOqv",
        "outputId": "92225c03-b425-478b-8b73-39c6077edc06"
      },
      "outputs": [
        {
          "name": "stdout",
          "output_type": "stream",
          "text": [
            "enter 1st set of strings:- a,b,c,d,e\n",
            "enter 2nd set of strings:- c,d,e,f,g\n",
            "symmetric difference of sets are:{'f', 'g', 'b', 'a'}\n"
          ]
        }
      ],
      "source": [
        "# Develop a code that prompts the user to input two sets of strings. Then print the symmetric difference of these two sets .\n",
        "set1=set(input(\"enter 1st set of strings:- \").split(\",\"))\n",
        "set2=set(input(\"enter 2nd set of strings:- \").split(\",\"))\n",
        "print(f\"symmetric difference of sets are:{set1^set2}\")"
      ]
    },
    {
      "cell_type": "code",
      "execution_count": 2,
      "metadata": {
        "colab": {
          "base_uri": "https://localhost:8080/"
        },
        "id": "ME6C_JmYC6xF",
        "outputId": "bff56c7e-b786-4a73-dc6f-e5fbd6410d56"
      },
      "outputs": [
        {
          "name": "stdout",
          "output_type": "stream",
          "text": [
            "{'hero': 3, 'yamaha': 1, 'suzuki': 1, 'bajaj': 1, 'honda': 3}\n"
          ]
        }
      ],
      "source": [
        "#  Write a code that takes a list of words as input and returns a dictionary where the keys are unique words and the values are the frequenncies of those words in the input list .\n",
        "word=[\"honda\",\"suzuki\",\"yamaha\",\"honda\",\"honda\",\"hero\",\"bajaj\",\"hero\",\"hero\"]\n",
        "word_dict={ i: word.count(i) for i in set(word) }\n",
        "print(word_dict)"
      ]
    },
    {
      "cell_type": "code",
      "execution_count": 5,
      "metadata": {
        "colab": {
          "base_uri": "https://localhost:8080/"
        },
        "id": "H_vkED2NC7PR",
        "outputId": "0fa37d50-cc96-4d6e-90e6-b29846ffa485"
      },
      "outputs": [
        {
          "name": "stdout",
          "output_type": "stream",
          "text": [
            "{'apple': 60, 'orange': 150, 'mango': 100, 'kiwi': 20}\n"
          ]
        }
      ],
      "source": [
        "# Write a code that takes two dictionaries as input and merges them into a single dictionary. If there are common keys the values should be added together .\n",
        "dic1={\"apple\":10,\"orange\":50,\"mango\":100}\n",
        "dic2={\"orange\":100,\"kiwi\":20,\"apple\":50}\n",
        "new_dict={**dic1,**dic2}\n",
        "for key,value in dic1.items():\n",
        "  if key in dic2:\n",
        "    new_dict[key]+=value\n",
        "print(new_dict)\n"
      ]
    },
    {
      "cell_type": "code",
      "execution_count": 10,
      "metadata": {
        "colab": {
          "base_uri": "https://localhost:8080/"
        },
        "id": "JfLQ6XbtC7e-",
        "outputId": "b5ad0d53-7464-4176-b1ca-25639805c722"
      },
      "outputs": [
        {
          "name": "stdout",
          "output_type": "stream",
          "text": [
            "100\n"
          ]
        }
      ],
      "source": [
        "# Write a code to access a value in a nested dictionary. The function should take the dictionary and a list of keys as input and return the corresponding value. If any of the keys do not exist in the dictionary the function should return None .\n",
        "def get_value(dic, keys):\n",
        "    current_dict = dic\n",
        "    for key in keys:\n",
        "        if key in current_dict:\n",
        "            current_dict = current_dict[key]\n",
        "        else:\n",
        "            return None\n",
        "    return current_dict\n",
        "my_dict = {'apple': {'banana': {'cherry': 100}}}\n",
        "keys = ['apple', 'banana', 'cherry']\n",
        "value = get_value(my_dict, keys)\n",
        "print(value)"
      ]
    },
    {
      "cell_type": "code",
      "execution_count": 11,
      "metadata": {
        "colab": {
          "base_uri": "https://localhost:8080/"
        },
        "id": "m1HxaLr_C7xe",
        "outputId": "70e1cba4-da26-4e29-aa41-ca53cf4ac586"
      },
      "outputs": [
        {
          "name": "stdout",
          "output_type": "stream",
          "text": [
            "Sorted dictionary (ascending order): {'orange': 20, 'mango': 30, 'kiwi': 50, 'grapes': 100}\n",
            "Sorted dictionary (descending order): {'grapes': 100, 'kiwi': 50, 'mango': 30, 'orange': 20}\n"
          ]
        }
      ],
      "source": [
        "# Write a code that takes a dictionary as input and returns a sorted version of it based on the values. You can choose whether to sort in ascending or descending order .\n",
        "fruits_dict = {'mango': 30, 'orange': 20, 'kiwi': 50, 'grapes': 100}\n",
        "sorted_dict = dict(sorted(fruits_dict.items(), key=lambda item: item[1]))\n",
        "print(f\"Sorted dictionary (ascending order): {sorted_dict}\")\n",
        "\n",
        "fruits_dict = {'mango': 30, 'orange': 20, 'kiwi': 50, 'grapes': 100}\n",
        "sorted_dict = dict(sorted(fruits_dict.items(), key=lambda item: item[1],reverse=True))\n",
        "print(f\"Sorted dictionary (descending order): {sorted_dict}\")\n"
      ]
    },
    {
      "cell_type": "code",
      "execution_count": 9,
      "metadata": {
        "colab": {
          "base_uri": "https://localhost:8080/"
        },
        "id": "vli9pFZCC8ND",
        "outputId": "0bf4fde7-acdc-4f2a-a532-32ba6c4be185"
      },
      "outputs": [
        {
          "name": "stdout",
          "output_type": "stream",
          "text": [
            "inverted dictionary is:{10: ['apple', 'kiwi'], 50: ['orange', 'guava'], 100: ['mango']}\n"
          ]
        }
      ],
      "source": [
        "#  Write a code that inverts a dictionary swapping keys and values. Ensure that the inverted dictionary correctly handles cases where multiple keys have the same value by storing the keys as a list in the inverted dictionary\n",
        "dic={\"apple\":10,\"orange\":50,\"mango\":100,\"kiwi\":10,\"guava\":50}\n",
        "new_dict={}\n",
        "for value in dic.values():\n",
        "  new_dict[value]=[]\n",
        "  for key,new_value in dic.items():\n",
        "    if value==new_value:\n",
        "      new_dict[value].append(key)\n",
        "print(f\"inverted dictionary is:{new_dict}\")"
      ]
    }
  ],
  "metadata": {
    "colab": {
      "provenance": []
    },
    "kernelspec": {
      "display_name": "Python 3",
      "name": "python3"
    },
    "language_info": {
      "name": "python",
      "version": "3.12.2"
    }
  },
  "nbformat": 4,
  "nbformat_minor": 0
}
